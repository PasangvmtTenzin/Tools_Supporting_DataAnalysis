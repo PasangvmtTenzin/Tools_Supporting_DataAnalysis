{
 "cells": [
  {
   "cell_type": "markdown",
   "metadata": {
    "collapsed": true
   },
   "source": [
    "This notebook contain exercises for classes copied form readme."
   ]
  },
  {
   "cell_type": "code",
   "execution_count": 38,
   "metadata": {},
   "outputs": [],
   "source": [
    "import numpy as np # type: ignore"
   ]
  },
  {
   "cell_type": "markdown",
   "metadata": {},
   "source": [
    "## Exercise 1 \n",
    "\n",
    "Fix the code, so that all ``assert`` pass."
   ]
  },
  {
   "cell_type": "code",
   "execution_count": 39,
   "metadata": {},
   "outputs": [
    {
     "ename": "AssertionError",
     "evalue": "",
     "output_type": "error",
     "traceback": [
      "\u001b[1;31m---------------------------------------------------------------------------\u001b[0m",
      "\u001b[1;31mAssertionError\u001b[0m                            Traceback (most recent call last)",
      "Cell \u001b[1;32mIn[39], line 3\u001b[0m\n\u001b[0;32m      1\u001b[0m arr1 \u001b[38;5;241m=\u001b[39m []\n\u001b[0;32m      2\u001b[0m arr2 \u001b[38;5;241m=\u001b[39m []\n\u001b[1;32m----> 3\u001b[0m \u001b[38;5;28;01massert\u001b[39;00m \u001b[38;5;28mlen\u001b[39m(arr1) \u001b[38;5;241m==\u001b[39m \u001b[38;5;241m10\u001b[39m\n\u001b[0;32m      4\u001b[0m \u001b[38;5;28;01massert\u001b[39;00m \u001b[38;5;28mlen\u001b[39m(arr2) \u001b[38;5;241m==\u001b[39m \u001b[38;5;241m10\u001b[39m\n\u001b[0;32m      5\u001b[0m \u001b[38;5;28;01massert\u001b[39;00m np\u001b[38;5;241m.\u001b[39mall(arr1 \u001b[38;5;241m==\u001b[39m \u001b[38;5;241m100\u001b[39m)\n",
      "\u001b[1;31mAssertionError\u001b[0m: "
     ]
    }
   ],
   "source": [
    "arr1 = []\n",
    "arr2 = []\n",
    "assert len(arr1) == 10\n",
    "assert len(arr2) == 10\n",
    "assert np.all(arr1 == 100)\n",
    "assert np.all(arr2 == 156)\n",
    "assert np.all(arr1 + arr2 == 0)"
   ]
  },
  {
   "cell_type": "markdown",
   "metadata": {},
   "source": [
    "##Answer/Solution"
   ]
  },
  {
   "cell_type": "code",
   "execution_count": null,
   "metadata": {},
   "outputs": [],
   "source": [
    "arr1 = np.full(10, 100, dtype=np.uint8)\n",
    "arr2 = np.full(10, 156, dtype=np.uint8)\n",
    "\n",
    "assert len(arr1) == 10\n",
    "assert len(arr2) == 10\n",
    "assert np.all(arr1 == 100)\n",
    "assert np.all(arr2 == 156)\n",
    "\n",
    "assert np.all(arr1 + arr2 == 0)"
   ]
  },
  {
   "cell_type": "markdown",
   "metadata": {},
   "source": [
    "## Exercise 2\n",
    "\n",
    "Load data from ``data/sample.csv``; calculate mean, median and std for each column separately.\n",
    "Solve this using numpy and without numpy (or pandas etc.)\n",
    "\n",
    "Measure the time of it execution (using ``%time`` magic or ``time()`` function from ``time`` module) for each case."
   ]
  },
  {
   "cell_type": "markdown",
   "metadata": {},
   "source": [
    "###Using Numpy"
   ]
  },
  {
   "cell_type": "code",
   "execution_count": null,
   "metadata": {},
   "outputs": [
    {
     "name": "stderr",
     "output_type": "stream",
     "text": [
      "UsageError: %%time is a cell magic, but the cell body is empty. Did you mean the line magic %time (single %)?\n"
     ]
    }
   ],
   "source": [
    "%%time\n",
    "## not suporting ipython so used in different way to calculate time"
   ]
  },
  {
   "cell_type": "code",
   "execution_count": null,
   "metadata": {},
   "outputs": [],
   "source": [
    "file_path = r\"C:\\Users\\Dell\\Desktop\\WARSAW_Courses\\AnalysisTools\\Labs\\numpy\\data\\sample.csv\"\n",
    "data = np.genfromtxt(file_path) "
   ]
  },
  {
   "cell_type": "code",
   "execution_count": null,
   "metadata": {},
   "outputs": [
    {
     "name": "stdout",
     "output_type": "stream",
     "text": [
      "Mean = 7.0639037416723856\n"
     ]
    }
   ],
   "source": [
    "print(\"Mean =\",data.mean())\n"
   ]
  },
  {
   "cell_type": "code",
   "execution_count": null,
   "metadata": {},
   "outputs": [
    {
     "name": "stdout",
     "output_type": "stream",
     "text": [
      "Standard Devation = 4.4036118852569865\n"
     ]
    }
   ],
   "source": [
    "print(\"Standard Devation =\",data.std())"
   ]
  },
  {
   "cell_type": "code",
   "execution_count": null,
   "metadata": {},
   "outputs": [
    {
     "name": "stdout",
     "output_type": "stream",
     "text": [
      "Median = 6.799475524365358\n"
     ]
    }
   ],
   "source": [
    "print(\"Median =\",np.median(data))"
   ]
  },
  {
   "cell_type": "code",
   "execution_count": null,
   "metadata": {},
   "outputs": [
    {
     "name": "stdout",
     "output_type": "stream",
     "text": [
      "NumPy calculations:\n",
      "\n",
      "Column 1 - Mean = 4.950237434570932, Median = 4.628460170036773, Standard Deviation = 3.0374044915490646\n",
      "\n",
      "Column 2 - Mean = 5.105681811552876, Median = 5.007020938989633, Standard Deviation = 3.1208456402972553\n",
      "\n",
      "Column 3 - Mean = 6.3355206274836355, Median = 6.4169161174873475, Standard Deviation = 3.536493315764369\n",
      "\n",
      "Column 4 - Mean = 7.135616227054834, Median = 7.546433848198836, Standard Deviation = 3.804651550496822\n",
      "\n",
      "Column 5 - Mean = 6.165667026001199, Median = 6.384271782690741, Standard Deviation = 3.799668788477013\n",
      "\n",
      "Column 6 - Mean = 8.007182438439433, Median = 8.22774312234732, Standard Deviation = 3.964651154813369\n",
      "\n",
      "Column 7 - Mean = 7.155124688326448, Median = 6.596736494500302, Standard Deviation = 4.616856669508539\n",
      "\n",
      "Column 8 - Mean = 7.67168766504046, Median = 6.976808665788216, Standard Deviation = 4.744213080221843\n",
      "\n",
      "Column 9 - Mean = 9.48619956160243, Median = 9.43346851750816, Standard Deviation = 4.924779798853688\n",
      "\n",
      "Column 10 - Mean = 8.626119936651612, Median = 8.580686171653596, Standard Deviation = 5.524285242717979\n",
      "\n",
      "\n",
      "Execution time with NumPy: 0.0 seconds\n",
      "\n"
     ]
    }
   ],
   "source": [
    "\n",
    "import time\n",
    "import csv\n",
    "from statistics import mean, median, stdev\n",
    "\n",
    "\n",
    "start_time = time.time()\n",
    "\n",
    "# Calculate mean, median, and standard deviation for each column using NumPy\n",
    "mean_np = np.mean(data, axis=0)\n",
    "median_np = np.median(data, axis=0)\n",
    "std_np = np.std(data, axis=0)\n",
    "\n",
    "end_time = time.time()\n",
    "time_with_numpy = end_time - start_time\n",
    "\n",
    "print(\"NumPy calculations:\\n\")\n",
    "for i, (m, med, s) in enumerate(zip(mean_np, median_np, std_np)):\n",
    "    print(f\"Column {i+1} - Mean = {m}, Median = {med}, Standard Deviation = {s}\\n\")\n",
    "print(f\"\\nExecution time with NumPy: {time_with_numpy} seconds\\n\")"
   ]
  },
  {
   "cell_type": "code",
   "execution_count": null,
   "metadata": {},
   "outputs": [
    {
     "name": "stdout",
     "output_type": "stream",
     "text": [
      "Non-NumPy calculations:\n",
      "\n",
      "Column 1 - Mean = 4.950237434570931, Median = 4.628460170036773, Standard Deviation = 3.0527063742449903\n",
      "\n",
      "Column 2 - Mean = 5.105681811552877, Median = 5.007020938989633, Standard Deviation = 3.136567884085591\n",
      "\n",
      "Column 3 - Mean = 6.335520627483635, Median = 6.4169161174873475, Standard Deviation = 3.554309515754628\n",
      "\n",
      "Column 4 - Mean = 7.1356162270548324, Median = 7.546433848198836, Standard Deviation = 3.8238186821338997\n",
      "\n",
      "Column 5 - Mean = 6.1656670260012, Median = 6.384271782690741, Standard Deviation = 3.8188108178795552\n",
      "\n",
      "Column 6 - Mean = 8.007182438439434, Median = 8.22774312234732, Standard Deviation = 3.984624334898542\n",
      "\n",
      "Column 7 - Mean = 7.155124688326447, Median = 6.596736494500302, Standard Deviation = 4.640115540487784\n",
      "\n",
      "Column 8 - Mean = 7.671687665040459, Median = 6.976808665788216, Standard Deviation = 4.768113549270338\n",
      "\n",
      "Column 9 - Mean = 9.486199561602431, Median = 9.43346851750816, Standard Deviation = 4.949589929672612\n",
      "\n",
      "Column 10 - Mean = 8.626119936651609, Median = 8.580686171653596, Standard Deviation = 5.552115571209984\n",
      "\n",
      "\n",
      "Execution time without NumPy: 0.013202190399169922 seconds\n",
      "\n"
     ]
    }
   ],
   "source": [
    "# Without using NumPy\n",
    "start_time = time.time()\n",
    "\n",
    "# Load data without using NumPy\n",
    "with open(file_path, 'r') as file:\n",
    "    reader = csv.reader(file)\n",
    "    data = list(reader)\n",
    "\n",
    "# Split and convert string data to floats\n",
    "data = [list(map(float, row[0].split())) for row in data]\n",
    "\n",
    "# Transpose the data to get columns as rows\n",
    "transposed_data = list(zip(*data))\n",
    "\n",
    "# Calculate mean, median, and standard deviation for each column without using NumPy\n",
    "mean_no_np = [mean(column) for column in transposed_data]\n",
    "median_no_np = [median(column) for column in transposed_data]\n",
    "std_no_np = [stdev(column) for column in transposed_data]\n",
    "\n",
    "end_time = time.time()\n",
    "time_without_numpy = end_time - start_time\n",
    "\n",
    "print(\"Non-NumPy calculations:\\n\")\n",
    "for i, (m, med, s) in enumerate(zip(mean_no_np, median_no_np, std_no_np)):\n",
    "    print(f\"Column {i+1} - Mean = {m}, Median = {med}, Standard Deviation = {s}\\n\")\n",
    "print(f\"\\nExecution time without NumPy: {time_without_numpy} seconds\\n\")"
   ]
  },
  {
   "cell_type": "markdown",
   "metadata": {},
   "source": [
    "## Exercise 3\n",
    "\n",
    "Load data from ``data/ex3_data.npy`` and filter out rows with ``nan`` values.\n",
    "Report how many rows are dropped during filtration, globally and how many ``nan`` are in each column."
   ]
  },
  {
   "cell_type": "code",
   "execution_count": null,
   "metadata": {},
   "outputs": [
    {
     "name": "stdout",
     "output_type": "stream",
     "text": [
      "Number of rows with nan values: 10\n",
      "Column 1 has 3 nan values\n",
      "Column 2 has 3 nan values\n",
      "Column 3 has 4 nan values\n",
      "Column 4 has 1 nan values\n",
      "\n",
      "Report!\n",
      "Number of rows dropped during filtration: 10\n",
      "\n",
      "Shape of the data before filtration: (200, 4)\n",
      "Shape of the data after filtration: (190, 4)\n"
     ]
    }
   ],
   "source": [
    "# Load the data from the .npy file\n",
    "file_path = 'data/ex3_data.npy'\n",
    "data = np.load(file_path)\n",
    "\n",
    "# Identify rows with nan values\n",
    "nan_mask = np.isnan(data).any(axis=1)\n",
    "\n",
    "# Count the number of rows with nan values\n",
    "num_rows_with_nan = np.sum(nan_mask)\n",
    "print(f\"Number of rows with nan values: {num_rows_with_nan}\")\n",
    "\n",
    "# Count the number of nan values in each column\n",
    "nan_counts_per_column = np.sum(np.isnan(data), axis=0)\n",
    "\n",
    "for i, count in enumerate(nan_counts_per_column):\n",
    "    print(f\"Column {i+1} has {count} nan values\")\n",
    "\n",
    "# Filter out rows with nan values and creates new array negating the \"nan_mask\"\n",
    "filtered_data = data[~nan_mask]\n",
    "\n",
    "# Report the number of rows dropped during filtration\n",
    "num_rows_dropped = num_rows_with_nan\n",
    "print(\"\\nReport!\")\n",
    "print(f\"Number of rows dropped during filtration: {num_rows_dropped}\\n\")\n",
    "\n",
    "# Optionally, you can also print the shape of the filtered data to confirm\n",
    "print(f\"Shape of the data before filtration: {data.shape}\")\n",
    "print(f\"Shape of the data after filtration: {filtered_data.shape}\")\n"
   ]
  },
  {
   "cell_type": "markdown",
   "metadata": {},
   "source": [
    "## Exercise 4\n",
    "\n",
    "Load data from ``data/iris.csv`` using ``loadtxt`` from ``numpy``. \n",
    "Skip header and name columns.\n",
    "For each column calculate: `mean`, `median` and `std` using `axis` parameter."
   ]
  },
  {
   "cell_type": "code",
   "execution_count": null,
   "metadata": {},
   "outputs": [],
   "source": [
    "#np.loadtxt"
   ]
  },
  {
   "cell_type": "markdown",
   "metadata": {},
   "source": [
    "## Exercise 5\n",
    "\n",
    "Load data from ``data/sample_treated.npz``. \n",
    "Assume that each row of the ``outputs`` array contains information about the size of some structure traced in time.\n",
    "We would like to know which object grows doubles its size during observation.\n"
   ]
  },
  {
   "cell_type": "code",
   "execution_count": null,
   "metadata": {},
   "outputs": [],
   "source": []
  }
 ],
 "metadata": {
  "kernelspec": {
   "display_name": "Python 3",
   "language": "python",
   "name": "python3"
  },
  "language_info": {
   "codemirror_mode": {
    "name": "ipython",
    "version": 3
   },
   "file_extension": ".py",
   "mimetype": "text/x-python",
   "name": "python",
   "nbconvert_exporter": "python",
   "pygments_lexer": "ipython3",
   "version": "3.10.11"
  }
 },
 "nbformat": 4,
 "nbformat_minor": 1
}
